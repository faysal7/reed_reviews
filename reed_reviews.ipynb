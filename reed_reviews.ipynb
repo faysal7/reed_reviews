{
 "cells": [
  {
   "cell_type": "code",
   "execution_count": 57,
   "metadata": {},
   "outputs": [],
   "source": [
    "## Import required and advanced modules\n",
    "from selenium import webdriver\n",
    "from IPython.core.display import clear_output\n",
    "from selenium.webdriver.common.by import By\n",
    "from selenium.webdriver.support.ui import WebDriverWait\n",
    "import time\n",
    "import pandas as pd\n",
    "from datetime import date"
   ]
  },
  {
   "cell_type": "code",
   "execution_count": 36,
   "metadata": {},
   "outputs": [],
   "source": [
    "def scrape_reviews(link,provider,view_more_times):\n",
    "    ## Initialize empty list of variables to scrape\n",
    "    review = []\n",
    "    course_title = []\n",
    "    reviewed_by = []\n",
    "    stars = []\n",
    "    \n",
    "    # Initialize driver\n",
    "    driver = webdriver.Chrome()\n",
    "    driver.get(link)\n",
    "    driver.maximize_window()\n",
    "    wait = WebDriverWait(driver, 25)\n",
    "    time.sleep(4)\n",
    "\n",
    "    # Click on reviews button\n",
    "    elem = driver.find_element_by_xpath('//*[@id=\"reviews\"]/div[1]/span')\n",
    "    #elem.click()\n",
    "\n",
    "    # Click \"view more\" page\n",
    "    try:\n",
    "        for i in range(1,view_more_times):\n",
    "            time.sleep(4)\n",
    "            elem = driver.find_element_by_xpath('//*[@id=\"providerCourseReviews\"]/div[3]/a')\n",
    "            elem.click()\n",
    "    except Exception as e:\n",
    "        print(e)\n",
    "\n",
    "    # Extract title for which review has been provided\n",
    "    course_title_tag = driver.find_elements(By.CSS_SELECTOR,'div.heading.mt-2.ml-1.mr-1')\n",
    "    for tlt in course_title_tag:\n",
    "        course_title.append(tlt.text if course_title_tag is not None else 'missing')\n",
    "    \n",
    "    # Get the review\n",
    "    review_tag = driver.find_elements(By.CSS_SELECTOR,'div.mt-1.ml-1.mr-1 p')\n",
    "    for rvw in review_tag:\n",
    "        review.append(rvw.text if review_tag is not None else 'missing')\n",
    "    \n",
    "#     reviewed_by_tag = driver.find_elements(By.CSS_SELECTOR,'div.mt-1.text-muted.subtext.d-md-flex.ml-1.mr-1')\n",
    "#     for rvby in reviewed_by_tag:\n",
    "#         reviewed_by.append(rvby.text if reviewed_by_tag is not None else 'missing')\n",
    "    \n",
    "    # Get the no of stars\n",
    "    stars_tag = driver.find_elements(By.CSS_SELECTOR,'article h3.sr-only')\n",
    "    for strs in stars_tag:\n",
    "        try:\n",
    "            stars.append(strs.text)\n",
    "        except:\n",
    "            stars.append('missing')\n",
    "    \n",
    "    # Create df with scraped variables\n",
    "    df = pd.DataFrame({\n",
    "        \"course\":course_title,\n",
    "        \"review\":review,\n",
    "#         \"reviewed_by\":reviewed_by,\n",
    "         \"stars\":stars\n",
    "    })\n",
    "    \n",
    "    # Extract purchase time.\n",
    "    #df['purchase_time'] = df.reviewed_by.str.split(\"|\").str[1]\n",
    "    # Insert provider\n",
    "    df['provider'] = provider\n",
    "    today = date.today().strftime('%d_%b')\n",
    "    return df.to_csv(f\"{provider}_review_today.csv\",index=False)"
   ]
  },
  {
   "cell_type": "code",
   "execution_count": 18,
   "metadata": {},
   "outputs": [
    {
     "name": "stdout",
     "output_type": "stream",
     "text": [
      "Message: no such element: Unable to locate element: {\"method\":\"xpath\",\"selector\":\"//*[@id=\"providerCourseReviews\"]/div[3]/a\"}\n",
      "  (Session info: chrome=79.0.3945.130)\n",
      "\n"
     ]
    }
   ],
   "source": [
    "# Scrape one education reviews\n",
    "scrape_reviews('https://www.reed.co.uk/courses/profile/one-education','one_education',23)"
   ]
  },
  {
   "cell_type": "code",
   "execution_count": 37,
   "metadata": {
    "scrolled": true
   },
   "outputs": [
    {
     "name": "stdout",
     "output_type": "stream",
     "text": [
      "Message: no such element: Unable to locate element: {\"method\":\"xpath\",\"selector\":\"//*[@id=\"providerCourseReviews\"]/div[3]/a\"}\n",
      "  (Session info: chrome=79.0.3945.130)\n",
      "\n"
     ]
    }
   ],
   "source": [
    "# Scrape janets reviews\n",
    "scrape_reviews('https://www.reed.co.uk/courses/profile/janets','janets',10)"
   ]
  },
  {
   "cell_type": "code",
   "execution_count": 38,
   "metadata": {},
   "outputs": [
    {
     "name": "stdout",
     "output_type": "stream",
     "text": [
      "Message: no such element: Unable to locate element: {\"method\":\"xpath\",\"selector\":\"//*[@id=\"providerCourseReviews\"]/div[3]/a\"}\n",
      "  (Session info: chrome=79.0.3945.130)\n",
      "\n"
     ]
    }
   ],
   "source": [
    "# Scrape course gate reviews\n",
    "scrape_reviews('https://www.reed.co.uk/courses/profile/course-gate','course_gate',12)"
   ]
  },
  {
   "cell_type": "code",
   "execution_count": 50,
   "metadata": {},
   "outputs": [],
   "source": [
    "## Read all the dfs and concate them for processing and cleaning\n",
    "df_one = pd.read_csv('one_education_review_today.csv')\n",
    "df_janets = pd.read_csv('janets_review_today.csv')\n",
    "df_cg = pd.read_csv('course_gate_review_today.csv')\n",
    "## Merge dfs\n",
    "df = pd.concat([df_one,df_janets,df_cg],axis=0,sort=False).reset_index(drop=True)"
   ]
  },
  {
   "cell_type": "code",
   "execution_count": 53,
   "metadata": {},
   "outputs": [
    {
     "data": {
      "text/html": [
       "<div>\n",
       "<style scoped>\n",
       "    .dataframe tbody tr th:only-of-type {\n",
       "        vertical-align: middle;\n",
       "    }\n",
       "\n",
       "    .dataframe tbody tr th {\n",
       "        vertical-align: top;\n",
       "    }\n",
       "\n",
       "    .dataframe thead th {\n",
       "        text-align: right;\n",
       "    }\n",
       "</style>\n",
       "<table border=\"1\" class=\"dataframe\">\n",
       "  <thead>\n",
       "    <tr style=\"text-align: right;\">\n",
       "      <th></th>\n",
       "      <th>course</th>\n",
       "      <th>review</th>\n",
       "      <th>stars</th>\n",
       "      <th>provider</th>\n",
       "    </tr>\n",
       "  </thead>\n",
       "  <tbody>\n",
       "    <tr>\n",
       "      <th>0</th>\n",
       "      <td>Sage 50 Accounting 2018 for Beginner - CPD Acc...</td>\n",
       "      <td>Enjoying the course. Well worth the cost. A qu...</td>\n",
       "      <td>4.0</td>\n",
       "      <td>one_education</td>\n",
       "    </tr>\n",
       "    <tr>\n",
       "      <th>1</th>\n",
       "      <td>HR and Payroll Management with Recruitment Con...</td>\n",
       "      <td>Good value for money course. Informative and g...</td>\n",
       "      <td>4.6</td>\n",
       "      <td>one_education</td>\n",
       "    </tr>\n",
       "    <tr>\n",
       "      <th>2</th>\n",
       "      <td>Building Surveyor Training - CPD Accredited</td>\n",
       "      <td>I have not been provided with any login detail...</td>\n",
       "      <td>1.0</td>\n",
       "      <td>one_education</td>\n",
       "    </tr>\n",
       "    <tr>\n",
       "      <th>3</th>\n",
       "      <td>Transport Planner Course - CPD Accredited</td>\n",
       "      <td>NaN</td>\n",
       "      <td>4.3</td>\n",
       "      <td>one_education</td>\n",
       "    </tr>\n",
       "    <tr>\n",
       "      <th>4</th>\n",
       "      <td>Chakra Healing and Balancing Online Training</td>\n",
       "      <td>If I ordered this, it was a mistake. I certain...</td>\n",
       "      <td>1.0</td>\n",
       "      <td>one_education</td>\n",
       "    </tr>\n",
       "  </tbody>\n",
       "</table>\n",
       "</div>"
      ],
      "text/plain": [
       "                                              course  \\\n",
       "0  Sage 50 Accounting 2018 for Beginner - CPD Acc...   \n",
       "1  HR and Payroll Management with Recruitment Con...   \n",
       "2        Building Surveyor Training - CPD Accredited   \n",
       "3          Transport Planner Course - CPD Accredited   \n",
       "4       Chakra Healing and Balancing Online Training   \n",
       "\n",
       "                                              review stars       provider  \n",
       "0  Enjoying the course. Well worth the cost. A qu...   4.0  one_education  \n",
       "1  Good value for money course. Informative and g...   4.6  one_education  \n",
       "2  I have not been provided with any login detail...   1.0  one_education  \n",
       "3                                                NaN   4.3  one_education  \n",
       "4  If I ordered this, it was a mistake. I certain...   1.0  one_education  "
      ]
     },
     "execution_count": 53,
     "metadata": {},
     "output_type": "execute_result"
    }
   ],
   "source": [
    "# Get only stars in digit and overwrite the current column\n",
    "df['stars'] = df.stars.str[0:3]\n",
    "\n",
    "# Drop some columns\n",
    "df = df.drop(['reviewed_by','purchase_time'],axis=1)\n",
    "df.head()"
   ]
  },
  {
   "cell_type": "code",
   "execution_count": 56,
   "metadata": {},
   "outputs": [],
   "source": [
    "df.to_csv('reed_review.csv',index=False)"
   ]
  }
 ],
 "metadata": {
  "kernelspec": {
   "display_name": "Python 3",
   "language": "python",
   "name": "python3"
  },
  "language_info": {
   "codemirror_mode": {
    "name": "ipython",
    "version": 3
   },
   "file_extension": ".py",
   "mimetype": "text/x-python",
   "name": "python",
   "nbconvert_exporter": "python",
   "pygments_lexer": "ipython3",
   "version": "3.7.3"
  }
 },
 "nbformat": 4,
 "nbformat_minor": 2
}
